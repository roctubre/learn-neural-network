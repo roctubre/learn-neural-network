{
 "cells": [
  {
   "cell_type": "markdown",
   "metadata": {},
   "source": [
    "# Simple Dense Neural Network / Fully connected Neural Network"
   ]
  },
  {
   "cell_type": "code",
   "execution_count": 1,
   "metadata": {},
   "outputs": [],
   "source": [
    "from torchvision import datasets\n",
    "from PIL import Image\n",
    "import numpy as np\n",
    "import matplotlib.pyplot as plt\n",
    "import random\n",
    "import sys"
   ]
  },
  {
   "cell_type": "code",
   "execution_count": 2,
   "metadata": {},
   "outputs": [],
   "source": [
    "# Set training and test datasets\n",
    "train_data = datasets.MNIST(\"data\", train=True, download=True)\n",
    "test_data = datasets.MNIST(\"data\", train=False, download=True)"
   ]
  },
  {
   "cell_type": "code",
   "execution_count": 109,
   "metadata": {},
   "outputs": [
    {
     "name": "stdout",
     "output_type": "stream",
     "text": [
      "5000\n",
      "(60000, 28, 28)\n",
      "(60000,)\n",
      "(5000, 28, 28)\n",
      "(5000,)\n",
      "(5000, 28, 28)\n",
      "(5000,)\n"
     ]
    }
   ],
   "source": [
    "# Convert to numpy arrays\n",
    "train_features = np.array(train_data.data) / 255.\n",
    "train_labels = np.array(train_data.targets)\n",
    "valid_features = np.array(test_data.data[:len(test_data.data)//2])\n",
    "valid_labels = np.array(test_data.targets[:len(test_data.targets)//2])\n",
    "test_features = np.array(test_data.data[len(test_data.data)//2:])\n",
    "test_labels = np.array(test_data.targets[len(test_data.targets)//2:])\n",
    "\n",
    "print(train_features.shape)\n",
    "print(train_labels.shape)\n",
    "print(valid_features.shape)\n",
    "print(valid_labels.shape)\n",
    "print(test_features.shape)\n",
    "print(test_labels.shape)"
   ]
  },
  {
   "cell_type": "code",
   "execution_count": 4,
   "metadata": {},
   "outputs": [
    {
     "data": {
      "image/png": "[encoded data removed]",
      "text/plain": [
       "<Figure size 1440x360 with 16 Axes>"
      ]
     },
     "metadata": {
      "needs_background": "light"
     },
     "output_type": "display_data"
    }
   ],
   "source": [
    "# show a random image from train dataset\n",
    "\n",
    "height = 2\n",
    "width = 8\n",
    "\n",
    "f, axarr = plt.subplots(height, width, figsize=(20, 5))\n",
    "\n",
    "for y in range(width):\n",
    "    for x in range(height):\n",
    "        r_idx = random.randint(0, len(train_data.data))\n",
    "        axarr[x,y].set_title(int(train_data.targets[r_idx]))\n",
    "        axarr[x,y].imshow(train_data.data[r_idx], cmap='gray')\n",
    "        axarr[x,y].axis(\"off\")\n",
    "        \n",
    "plt.show()"
   ]
  },
  {
   "cell_type": "code",
   "execution_count": 91,
   "metadata": {},
   "outputs": [],
   "source": [
    "def sigmoid(x):\n",
    "    return 1 / (1 + np.exp(-x))\n",
    "\n",
    "def sigmoid_derivative(x):\n",
    "    sig = sigmoid(x)\n",
    "    return sig * (1 - sig)\n",
    "\n",
    "def sigmoid_derived(x):\n",
    "    return x * (1 - x)\n",
    "\n",
    "def relu(x):\n",
    "    return np.maximum(0, x, x)\n",
    "\n",
    "def cross_entropy(x):\n",
    "    x = np.exp(x)\n",
    "    sums = np.sum(x, axis=1)\n",
    "    return x / sums.reshape((-1, 1))\n",
    "\n",
    "def cross_entropy_derived(x):\n",
    "    return x * (1 - x)"
   ]
  },
  {
   "cell_type": "code",
   "execution_count": 6,
   "metadata": {},
   "outputs": [
    {
     "name": "stdout",
     "output_type": "stream",
     "text": [
      "\n",
      "[[0.29692274 0.29692274 0.29692274 0.10923177]\n",
      " [0.0320586  0.08714432 0.23688282 0.64391426]]\n",
      "\n"
     ]
    },
    {
     "data": {
      "text/plain": [
       "array([1., 1.])"
      ]
     },
     "execution_count": 6,
     "metadata": {},
     "output_type": "execute_result"
    }
   ],
   "source": [
    "x = [[0.5,0.5,0.5,-0.5],[1,2,3,4]]\n",
    "print(cross_entropy(x))\n",
    "np.sum(cross_entropy(x),axis=1)"
   ]
  },
  {
   "cell_type": "markdown",
   "metadata": {},
   "source": [
    "## Model 1"
   ]
  },
  {
   "cell_type": "code",
   "execution_count": 55,
   "metadata": {},
   "outputs": [],
   "source": [
    "class NN:\n",
    "    def __init__(self, input_nodes, hidden_nodes, output_nodes):\n",
    "        self.input_nodes = input_nodes\n",
    "        self.hidden_nodes = hidden_nodes\n",
    "        self.output_nodes = output_nodes\n",
    "        \n",
    "        self.input_weights = np.random.normal(0, 1.0, (input_nodes, hidden_nodes))\n",
    "        self.hidden_weights = np.random.normal(0, 1.0, (hidden_nodes, output_nodes))\n",
    "    \n",
    "    def predict(self, x):\n",
    "        \"\"\"\n",
    "        x = a batch of vectors (n, features)\n",
    "        \"\"\"\n",
    "        # FORWARD PROPAGATION\n",
    "        n_count = x.shape[0]\n",
    "        \n",
    "        \n",
    "        ## input to hidden\n",
    "        h_score = np.matmul(x, self.input_weights) # (n, hidden_nodes)\n",
    "        h_out = sigmoid(h_score) # (n, hidden_nodes)\n",
    "        \n",
    "        ## hidden to out\n",
    "        output_score = np.matmul(h_out, self.hidden_weights) # (n, output_nodes)\n",
    "        output = cross_entropy(output_score) # (n, output_nodes)\n",
    "        \n",
    "        return output\n",
    "        \n",
    "    def train(self, x, y, lr=0.01):\n",
    "        \"\"\"\n",
    "        x = a batch of vectors (n, features)\n",
    "        y = labels (one-hot-encoded) (n, outputs)\n",
    "        \"\"\"\n",
    "        # FORWARD PROPAGATION\n",
    "        n_count = x.shape[0]\n",
    "        \n",
    "        \n",
    "        ## input to hidden\n",
    "        h_score = np.matmul(x, self.input_weights) # (n, hidden_nodes)\n",
    "        h_out = sigmoid(h_score) # (n, hidden_nodes)\n",
    "        \n",
    "        ## hidden to out\n",
    "        output_score = np.matmul(h_out, self.hidden_weights) # (n, output_nodes)\n",
    "        output = cross_entropy(output_score) # (n, output_nodes)\n",
    "\n",
    "        error = -(1/n_count)*np.sum(np.log(output)*y) # (n, output_nodes)\n",
    "        \n",
    "        \n",
    "        # BACKWARD PROPAGATION\n",
    "        error_d = y / output\n",
    "        output_d = np.zeros((n_count, self.output_nodes, self.output_nodes))\n",
    "        for node_idx in range(self.output_nodes):\n",
    "            for s_idx in range(self.output_nodes):\n",
    "                if node_idx == s_idx:\n",
    "                    output_d[:, node_idx, s_idx] = output[:,s_idx]*(1 - output[:,s_idx]) * error_d[:,s_idx]\n",
    "                else:\n",
    "                    output_d[:, node_idx, s_idx] = -output[:,node_idx]*output[:,s_idx] * error_d[:,s_idx]\n",
    "        \n",
    "        h_o_gradient = np.zeros((self.hidden_nodes, self.output_nodes)) # (n, hidden_nodes, output_nodes)\n",
    "        for h_idx in range(self.hidden_nodes):\n",
    "            for out_idx in range(self.output_nodes):\n",
    "                h_o_gradient[h_idx, out_idx] = \\\n",
    "                    (np.sum(output_d[:, out_idx, :] * h_out[:, h_idx].reshape(-1,1))) / n_count\n",
    "         \n",
    "        # get hidden layer errors\n",
    "        hidden_d = np.zeros((n_count, self.hidden_nodes, self.output_nodes, self.output_nodes))\n",
    "        for h_idx in range(self.hidden_nodes):\n",
    "            for out_idx in range(self.output_nodes):\n",
    "                for s_idx in range(self.output_nodes):\n",
    "                    hidden_d[:, h_idx, node_idx, s_idx] = \\\n",
    "                        output_d[:, out_idx, s_idx] * self.hidden_weights[h_idx, out_idx] * \\\n",
    "                        sigmoid_derived(h_out[:,h_idx])\n",
    "                 \n",
    "        i_h_gradient = np.zeros((self.input_nodes, self.hidden_nodes))\n",
    "        for i_idx in range(self.input_nodes):\n",
    "            for h_idx in range(self.hidden_nodes):\n",
    "                i_h_gradient[i_idx, h_idx] = \\\n",
    "                    (np.sum(hidden_d[:, h_idx, -1] * x[:, i_idx].reshape(-1,1))) / n_count\n",
    "        \n",
    "        self.input_weights += i_h_gradient * lr\n",
    "        self.hidden_weights += h_o_gradient * lr\n",
    "\n",
    "        return error"
   ]
  },
  {
   "cell_type": "markdown",
   "metadata": {},
   "source": [
    "## Model 2 - ReLu"
   ]
  },
  {
   "cell_type": "code",
   "execution_count": 111,
   "metadata": {},
   "outputs": [],
   "source": [
    "class NN_relu:\n",
    "    def __init__(self, input_nodes, hidden_nodes, output_nodes):\n",
    "        self.input_nodes = input_nodes\n",
    "        self.hidden_nodes = hidden_nodes\n",
    "        self.output_nodes = output_nodes\n",
    "        \n",
    "        self.input_weights = np.random.normal(0, 1.0, (input_nodes, hidden_nodes))\n",
    "        self.hidden_weights = np.random.normal(0, 1.0, (hidden_nodes, output_nodes))\n",
    "    \n",
    "    def predict(self, x):\n",
    "        \"\"\"\n",
    "        x = a batch of vectors (n, features)\n",
    "        \"\"\"\n",
    "        # FORWARD PROPAGATION\n",
    "        n_count = x.shape[0]\n",
    "        \n",
    "        \n",
    "        ## input to hidden\n",
    "        h_score = np.matmul(x, self.input_weights) # (n, hidden_nodes)\n",
    "        h_out = relu(h_score) # (n, hidden_nodes)\n",
    "        \n",
    "        ## hidden to out\n",
    "        output_score = np.matmul(h_out, self.hidden_weights) # (n, output_nodes)\n",
    "        output = cross_entropy(output_score) # (n, output_nodes)\n",
    "        \n",
    "        return output\n",
    "        \n",
    "    def train(self, x, y, lr=0.01, train=True):\n",
    "        \"\"\"\n",
    "        x = a batch of vectors (n, features)\n",
    "        y = labels (one-hot-encoded) (n, outputs)\n",
    "        \"\"\"\n",
    "        # FORWARD PROPAGATION\n",
    "        n_count = x.shape[0]\n",
    "        \n",
    "        \n",
    "        ## input to hidden\n",
    "        h_score = np.matmul(x, self.input_weights) # (n, hidden_nodes)\n",
    "        h_out = relu(h_score) # (n, hidden_nodes)\n",
    "        \n",
    "        ## hidden to out\n",
    "        output_score = np.matmul(h_out, self.hidden_weights) # (n, output_nodes)\n",
    "        output = cross_entropy(output_score) # (n, output_nodes)\n",
    "\n",
    "        error = -(1/n_count)*np.sum(np.log(output)*y) # (n, output_nodes)\n",
    "        \n",
    "        if not train:\n",
    "            return error\n",
    "        \n",
    "        # BACKWARD PROPAGATION\n",
    "        error_d = y / output\n",
    "        output_d = np.zeros((n_count, self.output_nodes, self.output_nodes))\n",
    "        for node_idx in range(self.output_nodes):\n",
    "            for s_idx in range(self.output_nodes):\n",
    "                if node_idx == s_idx:\n",
    "                    output_d[:, node_idx, s_idx] = output[:,s_idx]*(1 - output[:,s_idx]) * error_d[:,s_idx]\n",
    "                else:\n",
    "                    output_d[:, node_idx, s_idx] = -output[:,node_idx]*output[:,s_idx] * error_d[:,s_idx]\n",
    "        \n",
    "        h_o_gradient = np.zeros((self.hidden_nodes, self.output_nodes)) # (n, hidden_nodes, output_nodes)\n",
    "        for h_idx in range(self.hidden_nodes):\n",
    "            for out_idx in range(self.output_nodes):\n",
    "                h_o_gradient[h_idx, out_idx] = \\\n",
    "                    (np.sum(output_d[:, out_idx, :] * h_out[:, h_idx].reshape(-1,1))) / n_count\n",
    "         \n",
    "        # get hidden layer errors\n",
    "        hidden_d = np.zeros((n_count, self.hidden_nodes, self.output_nodes, self.output_nodes))\n",
    "        for h_idx in range(self.hidden_nodes):\n",
    "            for out_idx in range(self.output_nodes):\n",
    "                for s_idx in range(self.output_nodes):\n",
    "                    hidden_d[:, h_idx, node_idx, s_idx] = \\\n",
    "                        output_d[:, out_idx, s_idx] * self.hidden_weights[h_idx, out_idx] * \\\n",
    "                        h_out[:,h_idx]\n",
    "                 \n",
    "        i_h_gradient = np.zeros((self.input_nodes, self.hidden_nodes))\n",
    "        for i_idx in range(self.input_nodes):\n",
    "            for h_idx in range(self.hidden_nodes):\n",
    "                i_h_gradient[i_idx, h_idx] = \\\n",
    "                    (np.sum(hidden_d[:, h_idx, -1] * x[:, i_idx].reshape(-1,1))) / n_count\n",
    "        \n",
    "        self.input_weights += i_h_gradient * lr\n",
    "        self.hidden_weights += h_o_gradient * lr\n",
    "\n",
    "        return error"
   ]
  },
  {
   "cell_type": "markdown",
   "metadata": {},
   "source": [
    "## Model 3 - Added bias"
   ]
  },
  {
   "cell_type": "code",
   "execution_count": 126,
   "metadata": {},
   "outputs": [
    {
     "name": "stdout",
     "output_type": "stream",
     "text": [
      "(2, 4)\n",
      "[[1. 2. 3. 1.]\n",
      " [4. 5. 6. 1.]]\n"
     ]
    }
   ],
   "source": [
    "test = np.array([[1,2,3],[4,5,6]])\n",
    "new = np.ones((test.shape[0], test.shape[1]+1))\n",
    "new[:,:-1] = test\n",
    "print(new.shape)\n",
    "print(new)"
   ]
  },
  {
   "cell_type": "code",
   "execution_count": 127,
   "metadata": {},
   "outputs": [],
   "source": [
    "class NN_bias:\n",
    "    def __init__(self, input_nodes, hidden_nodes, output_nodes):\n",
    "        self.input_nodes = input_nodes\n",
    "        self.hidden_nodes = hidden_nodes\n",
    "        self.output_nodes = output_nodes\n",
    "        \n",
    "        self.input_weights = np.random.normal(0, 1.0, (input_nodes+1, hidden_nodes))\n",
    "        self.hidden_weights = np.random.normal(0, 1.0, (hidden_nodes+1, output_nodes))\n",
    "    \n",
    "    def predict(self, x):\n",
    "        \"\"\"\n",
    "        x = a batch of vectors (n, features)\n",
    "        \"\"\"\n",
    "        # FORWARD PROPAGATION\n",
    "        n_count = x.shape[0]\n",
    "        \n",
    "        ## add bias to input layer\n",
    "        new = np.ones((x.shape[0], x.shape[1]+1)) # (n, features+1)\n",
    "        new[:,:-1] = x\n",
    "        x = new\n",
    "        \n",
    "        ## input to hidden\n",
    "        h_score = np.matmul(x, self.input_weights) # (n, features+1) * (features+1, h_n) = (n, hidden_nodes)\n",
    "        h_out = relu(h_score) # (n, hidden_nodes)\n",
    "        \n",
    "        ## add bias to hidden layer\n",
    "        new = np.ones((h_out.shape[0], h_out.shape[1]+1)) # (n, hidden_nodes+1)\n",
    "        new[:,:-1] = h_out\n",
    "        h_out = new\n",
    "        \n",
    "        ## hidden to out\n",
    "        output_score = np.matmul(h_out, self.hidden_weights) # (n, output_nodes)\n",
    "        output = cross_entropy(output_score) # (n, output_nodes)\n",
    "        \n",
    "        return output\n",
    "        \n",
    "    def train(self, x, y, lr=0.01, train=True):\n",
    "        \"\"\"\n",
    "        x = a batch of vectors (n, features)\n",
    "        y = labels (one-hot-encoded) (n, outputs)\n",
    "        \"\"\"\n",
    "        # FORWARD PROPAGATION\n",
    "        n_count = x.shape[0]\n",
    "        \n",
    "        ## add bias to input layer\n",
    "        new = np.ones((x.shape[0], x.shape[1]+1)) # (n, features+1)\n",
    "        new[:,:-1] = x\n",
    "        x = new\n",
    "        \n",
    "        ## input to hidden\n",
    "        h_score = np.matmul(x, self.input_weights) # (n, hidden_nodes)\n",
    "        h_out = relu(h_score) # (n, hidden_nodes)\n",
    "        \n",
    "        ## add bias to hidden layer\n",
    "        new = np.ones((h_out.shape[0], h_out.shape[1]+1)) # (n, hidden_nodes+1)\n",
    "        new[:,:-1] = h_out\n",
    "        h_out = new\n",
    "        \n",
    "        ## hidden to out\n",
    "        output_score = np.matmul(h_out, self.hidden_weights) # (n, output_nodes)\n",
    "        output = cross_entropy(output_score) # (n, output_nodes)\n",
    "\n",
    "        error = -(1/n_count)*np.sum(np.log(output)*y) # (n, output_nodes)\n",
    "        \n",
    "        if not train:\n",
    "            return error\n",
    "        \n",
    "        # BACKWARD PROPAGATION\n",
    "        error_d = y / output\n",
    "        output_d = np.zeros((n_count, self.output_nodes, self.output_nodes))\n",
    "        for node_idx in range(self.output_nodes):\n",
    "            for s_idx in range(self.output_nodes):\n",
    "                if node_idx == s_idx:\n",
    "                    output_d[:, node_idx, s_idx] = output[:,s_idx]*(1 - output[:,s_idx]) * error_d[:,s_idx]\n",
    "                else:\n",
    "                    output_d[:, node_idx, s_idx] = -output[:,node_idx]*output[:,s_idx] * error_d[:,s_idx]\n",
    "        \n",
    "        h_o_gradient = np.zeros((self.hidden_nodes+1, self.output_nodes)) # (n, hidden_nodes, output_nodes)\n",
    "        for h_idx in range(self.hidden_nodes+1):\n",
    "            for out_idx in range(self.output_nodes):\n",
    "                h_o_gradient[h_idx, out_idx] = \\\n",
    "                    (np.sum(output_d[:, out_idx, :] * h_out[:, h_idx].reshape(-1,1))) / n_count\n",
    "         \n",
    "        # get hidden layer errors\n",
    "        hidden_d = np.zeros((n_count, self.hidden_nodes, self.output_nodes, self.output_nodes))\n",
    "        for h_idx in range(self.hidden_nodes):\n",
    "            for out_idx in range(self.output_nodes):\n",
    "                for s_idx in range(self.output_nodes):\n",
    "                    hidden_d[:, h_idx, node_idx, s_idx] = \\\n",
    "                        output_d[:, out_idx, s_idx] * self.hidden_weights[h_idx, out_idx] * \\\n",
    "                        h_out[:,h_idx]\n",
    "                 \n",
    "        i_h_gradient = np.zeros((self.input_nodes+1, self.hidden_nodes))\n",
    "        for i_idx in range(self.input_nodes+1):\n",
    "            for h_idx in range(self.hidden_nodes):\n",
    "                i_h_gradient[i_idx, h_idx] = \\\n",
    "                    (np.sum(hidden_d[:, h_idx, -1] * x[:, i_idx].reshape(-1,1))) / n_count\n",
    "        \n",
    "        self.input_weights += i_h_gradient * lr\n",
    "        self.hidden_weights += h_o_gradient * lr\n",
    "\n",
    "        return error"
   ]
  },
  {
   "cell_type": "markdown",
   "metadata": {},
   "source": [
    "## Training"
   ]
  },
  {
   "cell_type": "code",
   "execution_count": 128,
   "metadata": {},
   "outputs": [
    {
     "name": "stdout",
     "output_type": "stream",
     "text": [
      "Epoch: 1 | Batch: 5000 / 60000 | Train Error: 57.01709004 | Valid Error: 53.59286020\n",
      "Epoch: 1 | Batch: 10000 / 60000 | Train Error: 24.49927721 | Valid Error: 23.72398946\n",
      "Epoch: 1 | Batch: 15000 / 60000 | Train Error: 18.43392048 | Valid Error: 18.01935491\n",
      "Epoch: 1 | Batch: 20000 / 60000 | Train Error: 14.13415600 | Valid Error: 13.79410436\n",
      "Epoch: 1 | Batch: 25000 / 60000 | Train Error: 15.34709728 | Valid Error: 14.97028199\n",
      "Epoch: 1 | Batch: 30000 / 60000 | Train Error: 9.14593528 | Valid Error: 8.97243466\n",
      "Epoch: 1 | Batch: 35000 / 60000 | Train Error: 9.81944135 | Valid Error: 9.69219045\n",
      "Epoch: 1 | Batch: 40000 / 60000 | Train Error: 6.64580570 | Valid Error: 6.49909228\n",
      "Epoch: 1 | Batch: 45000 / 60000 | Train Error: 7.92708768 | Valid Error: 7.76239782\n",
      "Epoch: 1 | Batch: 50000 / 60000 | Train Error: 7.69971312 | Valid Error: 7.52696068\n",
      "Epoch: 1 | Batch: 55000 / 60000 | Train Error: 6.48457317 | Valid Error: 6.31623130\n",
      "Epoch: 1 | Batch: 60000 / 60000 | Train Error: 4.26530797 | Valid Error: 4.14988153\n",
      "Epoch: 2 | Batch: 5000 / 60000 | Train Error: 4.05701467 | Valid Error: 3.94871295\n",
      "Epoch: 2 | Batch: 10000 / 60000 | Train Error: 5.41679181 | Valid Error: 5.30449784\n",
      "Epoch: 2 | Batch: 15000 / 60000 | Train Error: 4.39019992 | Valid Error: 4.29324149\n",
      "Epoch: 2 | Batch: 20000 / 60000 | Train Error: 3.74995309 | Valid Error: 3.59244450\n",
      "Epoch: 2 | Batch: 25000 / 60000 | Train Error: 5.41347054 | Valid Error: 5.25035623\n",
      "Epoch: 2 | Batch: 30000 / 60000 | Train Error: 3.97254162 | Valid Error: 3.89749682\n",
      "Epoch: 2 | Batch: 35000 / 60000 | Train Error: 4.80973864 | Valid Error: 4.72485945\n",
      "Epoch: 2 | Batch: 40000 / 60000 | Train Error: 2.36078194 | Valid Error: 2.29208349\n",
      "Epoch: 2 | Batch: 45000 / 60000 | Train Error: 3.71045807 | Valid Error: 3.64319209\n",
      "Epoch: 2 | Batch: 50000 / 60000 | Train Error: 3.78386384 | Valid Error: 3.69771222\n",
      "Epoch: 2 | Batch: 55000 / 60000 | Train Error: 3.63617448 | Valid Error: 3.52115559\n",
      "Epoch: 2 | Batch: 60000 / 60000 | Train Error: 2.19762573 | Valid Error: 2.12697663\n",
      "Epoch: 3 | Batch: 5000 / 60000 | Train Error: 2.49175016 | Valid Error: 2.43253353\n",
      "Epoch: 3 | Batch: 10000 / 60000 | Train Error: 2.85379727 | Valid Error: 2.76532668\n",
      "Epoch: 3 | Batch: 15000 / 60000 | Train Error: 1.99068342 | Valid Error: 1.93627269\n",
      "Epoch: 3 | Batch: 20000 / 60000 | Train Error: 1.93611090 | Valid Error: 1.82936104\n",
      "Epoch: 3 | Batch: 25000 / 60000 | Train Error: 2.93550882 | Valid Error: 2.82486431\n",
      "Epoch: 3 | Batch: 30000 / 60000 | Train Error: 2.28537257 | Valid Error: 2.25269820\n",
      "Epoch: 3 | Batch: 35000 / 60000 | Train Error: 3.03398766 | Valid Error: 2.96435688\n",
      "Epoch: 3 | Batch: 40000 / 60000 | Train Error: 1.54771273 | Valid Error: 1.48220314\n",
      "Epoch: 3 | Batch: 45000 / 60000 | Train Error: 2.26765469 | Valid Error: 2.19357487\n",
      "Epoch: 3 | Batch: 50000 / 60000 | Train Error: 2.61255518 | Valid Error: 2.52493256\n",
      "Epoch: 3 | Batch: 55000 / 60000 | Train Error: 2.65660180 | Valid Error: 2.58025926\n",
      "Epoch: 3 | Batch: 60000 / 60000 | Train Error: 1.49536290 | Valid Error: 1.44524817\n",
      "Epoch: 4 | Batch: 5000 / 60000 | Train Error: 1.74397936 | Valid Error: 1.69166856\n",
      "Epoch: 4 | Batch: 10000 / 60000 | Train Error: 1.97643031 | Valid Error: 1.90104585\n",
      "Epoch: 4 | Batch: 15000 / 60000 | Train Error: 1.49313226 | Valid Error: 1.42306746\n",
      "Epoch: 4 | Batch: 20000 / 60000 | Train Error: 1.32275755 | Valid Error: 1.24942711\n",
      "Epoch: 4 | Batch: 25000 / 60000 | Train Error: 2.11007712 | Valid Error: 2.00494748\n",
      "Epoch: 4 | Batch: 30000 / 60000 | Train Error: 1.75219990 | Valid Error: 1.72098457\n",
      "Epoch: 4 | Batch: 35000 / 60000 | Train Error: 2.24262977 | Valid Error: 2.17971878\n",
      "Epoch: 4 | Batch: 40000 / 60000 | Train Error: 1.25823519 | Valid Error: 1.20333413\n",
      "Epoch: 4 | Batch: 45000 / 60000 | Train Error: 1.59773093 | Valid Error: 1.54098266\n",
      "Epoch: 4 | Batch: 50000 / 60000 | Train Error: 2.09435285 | Valid Error: 2.00633429\n",
      "Epoch: 4 | Batch: 55000 / 60000 | Train Error: 2.09603591 | Valid Error: 2.02641486\n",
      "Epoch: 4 | Batch: 60000 / 60000 | Train Error: 1.15661694 | Valid Error: 1.11930120\n"
     ]
    }
   ],
   "source": [
    "#model = NN(28**2, 40, 10)\n",
    "#model = NN_relu(28**2, 40, 10)\n",
    "model = NN_bias(28**2, 40, 10)\n",
    "\n",
    "batchsize = 100\n",
    "batchsize_valid = 100\n",
    "epochs = 5\n",
    "\n",
    "for epoch in range(1, epoch+1):\n",
    "    # Training\n",
    "    for idx in range(0, train_features.shape[0], batchsize):\n",
    "        features = train_features[idx:idx+batchsize].reshape((-1, 784))\n",
    "        labels = train_labels[idx:idx+batchsize]\n",
    "        labels_enc = np.zeros((batchsize, 10))\n",
    "        for l_idx in range(len(labels_enc)):\n",
    "            labels_enc[l_idx, labels[l_idx]] = 1\n",
    "\n",
    "        error = model.train(features, labels_enc)\n",
    "        #print(\"{} / {}\".format(idx, train_features.shape[0]) , error)\n",
    "        if idx % (batchsize * 50) == 0:\n",
    "            # Validation\n",
    "            error_valid = 0\n",
    "            for idx_v in range(0, len(valid_features), batchsize_valid):\n",
    "                features_valid = valid_features[idx_v:idx+batchsize_valid].reshape((-1,784))\n",
    "                labels_valid = valid_labels[idx_v:idx_v+batchsize_valid]\n",
    "                labels_enc_valid = np.zeros((batchsize_valid, 10))\n",
    "                error_valid += model.train(features, labels_enc, train=False)\n",
    "            \n",
    "            error_valid /= len(valid_features) / batchsize_valid\n",
    "            \n",
    "            print(\"Epoch: {} | Batch: {} / {} | Train Error: {:.8f} | Valid Error: {:.8f}\".format(\n",
    "                epoch, idx+(batchsize * 50), train_features.shape[0] , error, error_valid))\n"
   ]
  },
  {
   "cell_type": "code",
   "execution_count": 129,
   "metadata": {},
   "outputs": [
    {
     "name": "stderr",
     "output_type": "stream",
     "text": [
      "C:\\Users\\Ryan\\AppData\\Local\\conda\\conda\\envs\\deep-learning\\lib\\site-packages\\ipykernel_launcher.py:17: RuntimeWarning: invalid value encountered in true_divide\n"
     ]
    },
    {
     "name": "stdout",
     "output_type": "stream",
     "text": [
      "Accuracy: 34.3 %\n"
     ]
    }
   ],
   "source": [
    "\"\"\"\n",
    "nn_relu = 19.8 %\n",
    "nn_bias = 34.3 %\n",
    "\"\"\"\n",
    "\n",
    "\n",
    "correct = 0\n",
    "\n",
    "for idx in range(0,len(test_features)):\n",
    "    features = test_features[idx].reshape((1,784))\n",
    "    result = np.argmax(model.predict(features))\n",
    "    if result == test_labels[idx]:\n",
    "        correct += 1\n",
    "    #print(\"Real: {} Prediction: {}\".format(test_labels[idx], result))\n",
    "print(\"Accuracy: {:.1f} %\".format((correct/len(test_features))*100))"
   ]
  },
  {
   "cell_type": "code",
   "execution_count": 90,
   "metadata": {},
   "outputs": [
    {
     "data": {
      "text/plain": [
       "array([1, 2, 3, 0, 0, 0])"
      ]
     },
     "execution_count": 90,
     "metadata": {},
     "output_type": "execute_result"
    }
   ],
   "source": [
    "test = np.array([1,2,3,-4,-5,-6])\n",
    "np.maximum(0, test, test)\n",
    "test"
   ]
  }
 ],
 "metadata": {
  "kernelspec": {
   "display_name": "Python 3",
   "language": "python",
   "name": "python3"
  },
  "language_info": {
   "codemirror_mode": {
    "name": "ipython",
    "version": 3
   },
   "file_extension": ".py",
   "mimetype": "text/x-python",
   "name": "python",
   "nbconvert_exporter": "python",
   "pygments_lexer": "ipython3",
   "version": "3.7.3"
  }
 },
 "nbformat": 4,
 "nbformat_minor": 2
}
